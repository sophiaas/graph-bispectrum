{
 "cells": [
  {
   "cell_type": "code",
   "execution_count": 6,
   "metadata": {},
   "outputs": [
    {
     "name": "stderr",
     "output_type": "stream",
     "text": [
      "/home/sanborn/software/anaconda3/envs/bs/lib/python2.7/site-packages/sklearn/utils/fixes.py:313: FutureWarning: numpy not_equal will not check object identity in the future. The comparison did not return the same result as suggested by the identity (`is`)) and will change.\n",
      "  _nan_object_mask = _nan_object_array != _nan_object_array\n"
     ]
    }
   ],
   "source": [
    "from os.path import isfile, join\n",
    "import matplotlib\n",
    "import matplotlib.pyplot as plt\n",
    "from matplotlib import animation, rc\n",
    "import numpy as np\n",
    "import scipy\n",
    "from bispectrumcode.python.cjh_tests.bispectrum import bispectrum_2d\n",
    "from analysis.utils.image_bispectrum import *\n",
    "from analysis.utils.visualization import *\n",
    "from sklearn.linear_model import LogisticRegression\n",
    "from sklearn.neighbors import NearestNeighbors\n",
    "from scipy.spatial import cKDTree\n",
    "%load_ext autoreload\n",
    "%autoreload 2"
   ]
  },
  {
   "cell_type": "markdown",
   "metadata": {},
   "source": [
    "# Utils"
   ]
  },
  {
   "cell_type": "code",
   "execution_count": 7,
   "metadata": {},
   "outputs": [],
   "source": [
    "def get_spectra(stim):\n",
    "    m, n = stim.shape[1], stim.shape[2]\n",
    "    fft = np.fft.fftshift(np.fft.fft2(stim))\n",
    "    B = bispectrum_2d(fft, m, n)\n",
    "    ps = fft * np.conj(fft)\n",
    "    return B, ps"
   ]
  },
  {
   "cell_type": "code",
   "execution_count": 8,
   "metadata": {},
   "outputs": [],
   "source": [
    "data_dir = '/home/sanborn/datasets/shapes/'"
   ]
  },
  {
   "cell_type": "code",
   "execution_count": 9,
   "metadata": {},
   "outputs": [],
   "source": [
    "shapes_neurons = np.load(data_dir+\"shapes_neurons.npy\")\n",
    "shapes = np.load(data_dir+\"shapes.npy\")"
   ]
  },
  {
   "cell_type": "code",
   "execution_count": 11,
   "metadata": {},
   "outputs": [],
   "source": [
    "B, ps = get_spectra(shapes)"
   ]
  },
  {
   "cell_type": "code",
   "execution_count": 17,
   "metadata": {},
   "outputs": [],
   "source": [
    "def normalize_rc(rc, responses):\n",
    "    return np.sum(np.array(rc), axis=0) / np.sum(responses)\n",
    "\n",
    "def nearest_neighbor(point, set_of_points):\n",
    "    smallest_distance = np.inf\n",
    "    for p in set_of_points:\n",
    "        if np.mean(point - p) ** 2 < smallest_distance:\n",
    "            closest_point = p\n",
    "    return closest_point\n",
    "\n",
    "def rev_corr_nn(neurons, stim, power_spectrum, bispectrum, k=1):\n",
    "    bs_neighbors = []\n",
    "    ps_neighbors = []\n",
    "    pixel_neighbors = []\n",
    "    for neuron in neurons:\n",
    "        bs_revcorr = []\n",
    "        pixel_revcorr = []\n",
    "        ps_revcorr = []\n",
    "        responses = []\n",
    "        for i, response in enumerate(neuron):\n",
    "            if response > .5 * np.max(neuron):\n",
    "                ps_revcorr.append(power_spectrum[i] * response)\n",
    "                bs_revcorr.append(bispectrum[i] * response)\n",
    "                pixel_revcorr.append(stim[i] * response)\n",
    "                responses.append(response)\n",
    "        bs_revcorr = normalize_rc(bs_revcorr, responses)\n",
    "        ps_revcorr = normalize_rc(ps_revcorr, responses)\n",
    "        pixel_revcorr = normalize_rc(pixel_revcorr, responses)\n",
    "        bs_neighbors.append(nearest_neighbor(bs_revcorr, bispectrum))\n",
    "        pixel_neighbors.append(nearest_neighbor(pixel_revcorr, stim))\n",
    "        ps_neighbors.append(nearest_neighbor(ps_revcorr, power_spectrum))\n",
    "    return pixel_neighbors, ps_neighbors, bs_neighbors"
   ]
  },
  {
   "cell_type": "code",
   "execution_count": 18,
   "metadata": {},
   "outputs": [
    {
     "name": "stdout",
     "output_type": "stream",
     "text": [
      "revcorr\n"
     ]
    }
   ],
   "source": [
    "pixel_neighbors, ps_neighbors, bs_neighbors = rev_corr_nn([shapes_neurons[0]], shapes, ps, B)"
   ]
  },
  {
   "cell_type": "code",
   "execution_count": 25,
   "metadata": {},
   "outputs": [
    {
     "ename": "IndexError",
     "evalue": "list index out of range",
     "output_type": "error",
     "traceback": [
      "\u001b[0;31m---------------------------------------------------------------------------\u001b[0m",
      "\u001b[0;31mIndexError\u001b[0m                                Traceback (most recent call last)",
      "\u001b[0;32m<ipython-input-25-89de660399ee>\u001b[0m in \u001b[0;36m<module>\u001b[0;34m()\u001b[0m\n\u001b[0;32m----> 1\u001b[0;31m \u001b[0mplt\u001b[0m\u001b[0;34m.\u001b[0m\u001b[0mimshow\u001b[0m\u001b[0;34m(\u001b[0m\u001b[0mpixel_neighbors\u001b[0m\u001b[0;34m[\u001b[0m\u001b[0;36m1\u001b[0m\u001b[0;34m]\u001b[0m\u001b[0;34m)\u001b[0m\u001b[0;34m\u001b[0m\u001b[0m\n\u001b[0m",
      "\u001b[0;31mIndexError\u001b[0m: list index out of range"
     ]
    }
   ],
   "source": [
    "plt.imshow(pixel_neighbors[1])"
   ]
  },
  {
   "cell_type": "code",
   "execution_count": null,
   "metadata": {},
   "outputs": [],
   "source": []
  }
 ],
 "metadata": {
  "kernelspec": {
   "display_name": "Python 2",
   "language": "python",
   "name": "python2"
  },
  "language_info": {
   "codemirror_mode": {
    "name": "ipython",
    "version": 2
   },
   "file_extension": ".py",
   "mimetype": "text/x-python",
   "name": "python",
   "nbconvert_exporter": "python",
   "pygments_lexer": "ipython2",
   "version": "2.7.15"
  }
 },
 "nbformat": 4,
 "nbformat_minor": 2
}
