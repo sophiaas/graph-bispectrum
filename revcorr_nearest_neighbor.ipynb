{
 "cells": [
  {
   "cell_type": "code",
   "execution_count": 1,
   "metadata": {},
   "outputs": [
    {
     "name": "stderr",
     "output_type": "stream",
     "text": [
      "/home/sanborn/software/anaconda3/envs/bs/lib/python2.7/site-packages/sklearn/utils/fixes.py:313: FutureWarning: numpy not_equal will not check object identity in the future. The comparison did not return the same result as suggested by the identity (`is`)) and will change.\n",
      "  _nan_object_mask = _nan_object_array != _nan_object_array\n"
     ]
    }
   ],
   "source": [
    "from os.path import isfile, join\n",
    "import matplotlib\n",
    "import matplotlib.pyplot as plt\n",
    "from matplotlib import animation, rc\n",
    "import numpy as np\n",
    "import scipy\n",
    "from bispectrumcode.python.cjh_tests.bispectrum import bispectrum_2d\n",
    "from analysis.utils.image_bispectrum import *\n",
    "from analysis.utils.visualization import *\n",
    "from sklearn.linear_model import LogisticRegression\n",
    "from sklearn.neighbors import NearestNeighbors\n",
    "from scipy.spatial import cKDTree\n",
    "%load_ext autoreload\n",
    "%autoreload 2"
   ]
  },
  {
   "cell_type": "markdown",
   "metadata": {},
   "source": [
    "# Utils"
   ]
  },
  {
   "cell_type": "code",
   "execution_count": 2,
   "metadata": {},
   "outputs": [],
   "source": [
    "def get_spectra(stim):\n",
    "    m, n = stim.shape[1], stim.shape[2]\n",
    "    fft = np.fft.fftshift(np.fft.fft2(stim))\n",
    "    B = bispectrum_2d(fft, m, n)\n",
    "    ps = fft * np.conj(fft)\n",
    "    return B, ps"
   ]
  },
  {
   "cell_type": "code",
   "execution_count": 3,
   "metadata": {},
   "outputs": [],
   "source": [
    "data_dir = '/home/sanborn/datasets/shapes/'"
   ]
  },
  {
   "cell_type": "code",
   "execution_count": 4,
   "metadata": {},
   "outputs": [],
   "source": [
    "shapes_neurons = np.load(data_dir+\"shapes_neurons.npy\")\n",
    "shapes = np.load(data_dir+\"shapes.npy\")"
   ]
  },
  {
   "cell_type": "code",
   "execution_count": 5,
   "metadata": {},
   "outputs": [],
   "source": [
    "B, ps = get_spectra(shapes)"
   ]
  },
  {
   "cell_type": "code",
   "execution_count": 73,
   "metadata": {},
   "outputs": [],
   "source": [
    "def normalize_rc(rc, responses):\n",
    "    return np.sum(np.array(rc), axis=0) / np.sum(responses)\n",
    "\n",
    "def nearest_neighbor(point, set_of_points):\n",
    "    smallest_distance = np.inf\n",
    "    for i, p in enumerate(set_of_points):\n",
    "        dist = np.mean((point - p) ** 2)\n",
    "        if dist < smallest_distance:\n",
    "            smallest_distance = dist\n",
    "            closest_point = i\n",
    "    return closest_point\n",
    "\n",
    "def rev_corr_nn(neurons, stim, power_spectrum, bispectrum, k=1):\n",
    "    bs_neighbors = []\n",
    "    ps_neighbors = []\n",
    "    pixel_neighbors = []\n",
    "    for j, n in enumerate(neurons):\n",
    "        print(j)\n",
    "        bs_revcorr = []\n",
    "        pixel_revcorr = []\n",
    "        ps_revcorr = []\n",
    "        responses = []\n",
    "        for i, response in enumerate(n):\n",
    "            if response >= .5 * np.max(n):\n",
    "                ps_revcorr.append(power_spectrum[i] * response)\n",
    "                bs_revcorr.append(bispectrum[i] * response)\n",
    "                pixel_revcorr.append(stim[i] * response)\n",
    "                responses.append(response)\n",
    "        bs_revcorr = normalize_rc(bs_revcorr, responses)\n",
    "        ps_revcorr = normalize_rc(ps_revcorr, responses)\n",
    "        pixel_revcorr = normalize_rc(pixel_revcorr, responses)\n",
    "        bs_neighbors.append(nearest_neighbor(bs_revcorr, bispectrum))\n",
    "        pixel_neighbors.append(nearest_neighbor(pixel_revcorr, stim))\n",
    "        ps_neighbors.append(nearest_neighbor(ps_revcorr, power_spectrum))\n",
    "    return pixel_neighbors, ps_neighbors, bs_neighbors, pixel_revcorr, ps_revcorr, bs_revcorr"
   ]
  },
  {
   "cell_type": "code",
   "execution_count": 74,
   "metadata": {},
   "outputs": [
    {
     "name": "stdout",
     "output_type": "stream",
     "text": [
      "0\n",
      "1\n",
      "2\n"
     ]
    }
   ],
   "source": [
    "pixel_neighbors, ps_neighbors, bs_neighbors, pixel_revcor, ps_revcorr, bs_revcorr = rev_corr_nn(shapes_neurons[:3], shapes[:, 70:90, 70:90], ps, B)"
   ]
  },
  {
   "cell_type": "code",
   "execution_count": 75,
   "metadata": {},
   "outputs": [
    {
     "data": {
      "text/plain": [
       "[4721, 2171, 4393]"
      ]
     },
     "execution_count": 75,
     "metadata": {},
     "output_type": "execute_result"
    }
   ],
   "source": [
    "ps_neighbors"
   ]
  },
  {
   "cell_type": "code",
   "execution_count": 76,
   "metadata": {},
   "outputs": [
    {
     "data": {
      "text/plain": [
       "[759, 381, 8019]"
      ]
     },
     "execution_count": 76,
     "metadata": {},
     "output_type": "execute_result"
    }
   ],
   "source": [
    "pixel_neighbors"
   ]
  },
  {
   "cell_type": "code",
   "execution_count": 77,
   "metadata": {},
   "outputs": [
    {
     "data": {
      "text/plain": [
       "[6180, 6180, 6180]"
      ]
     },
     "execution_count": 77,
     "metadata": {},
     "output_type": "execute_result"
    }
   ],
   "source": [
    "bs_neighbors"
   ]
  },
  {
   "cell_type": "code",
   "execution_count": 68,
   "metadata": {},
   "outputs": [],
   "source": [
    "x = nearest_neighbor(bs_revcorr, B)"
   ]
  },
  {
   "cell_type": "code",
   "execution_count": 82,
   "metadata": {},
   "outputs": [
    {
     "data": {
      "text/plain": [
       "True"
      ]
     },
     "execution_count": 82,
     "metadata": {},
     "output_type": "execute_result"
    }
   ],
   "source": [
    "np.mean((bs_revcorr - B[1] ** 2)) < np.mean((bs_revcorr - B[6180] ** 2))"
   ]
  },
  {
   "cell_type": "code",
   "execution_count": 78,
   "metadata": {},
   "outputs": [
    {
     "data": {
      "text/plain": [
       "(8.4843909181121352e+18+4.0493273477352006e+17j)"
      ]
     },
     "execution_count": 78,
     "metadata": {},
     "output_type": "execute_result"
    }
   ],
   "source": [
    "np.mean((bs_revcorr - B[6180] ** 2))"
   ]
  },
  {
   "cell_type": "code",
   "execution_count": 70,
   "metadata": {},
   "outputs": [
    {
     "data": {
      "text/plain": [
       "array([  1.07619722e-41 -3.58732407e-42j,\n",
       "         1.07288094e-41 -3.57626981e-42j,\n",
       "         1.06626628e-41 -3.55422092e-42j, ...,\n",
       "        -7.95461186e+05 +2.55296860e+05j,\n",
       "        -7.95461186e+05 +2.55296860e+05j,  -7.95461186e+05 +2.55296860e+05j])"
      ]
     },
     "execution_count": 70,
     "metadata": {},
     "output_type": "execute_result"
    }
   ],
   "source": [
    "B[x]"
   ]
  },
  {
   "cell_type": "code",
   "execution_count": 64,
   "metadata": {},
   "outputs": [
    {
     "name": "stdout",
     "output_type": "stream",
     "text": [
      "threshold: 0.459190387551\n",
      "max_stim: 9425   response: 0.918380775101\n",
      "26\n",
      "26\n"
     ]
    },
    {
     "data": {
      "image/png": "[encoded data removed]",
      "text/plain": [
       "<Figure size 1440x72 with 2 Axes>"
      ]
     },
     "metadata": {
      "needs_background": "light"
     },
     "output_type": "display_data"
    },
    {
     "data": {
      "image/png": "[encoded data removed]",
      "text/plain": [
       "<Figure size 1440x288 with 1 Axes>"
      ]
     },
     "metadata": {
      "needs_background": "light"
     },
     "output_type": "display_data"
    },
    {
     "data": {
      "image/png": "[encoded data removed]",
      "text/plain": [
       "<Figure size 1440x144 with 26 Axes>"
      ]
     },
     "metadata": {},
     "output_type": "display_data"
    },
    {
     "data": {
      "image/png": "[encoded data removed]",
      "text/plain": [
       "<Figure size 1152x576 with 2 Axes>"
      ]
     },
     "metadata": {},
     "output_type": "display_data"
    }
   ],
   "source": [
    "bs, ffts = plot_neuron(shapes_neurons, shapes[:, 70:90, 70:90], 0, n_stds=10, white=False, crop=False)"
   ]
  },
  {
   "cell_type": "code",
   "execution_count": 45,
   "metadata": {},
   "outputs": [
    {
     "data": {
      "text/plain": [
       "<matplotlib.image.AxesImage at 0x7f298ebee750>"
      ]
     },
     "execution_count": 45,
     "metadata": {},
     "output_type": "execute_result"
    },
    {
     "data": {
      "image/png": "[encoded data removed]",
      "text/plain": [
       "<Figure size 432x288 with 1 Axes>"
      ]
     },
     "metadata": {
      "needs_background": "light"
     },
     "output_type": "display_data"
    }
   ],
   "source": [
    "plt.imshow(shapes[2569])"
   ]
  },
  {
   "cell_type": "code",
   "execution_count": 42,
   "metadata": {},
   "outputs": [
    {
     "data": {
      "text/plain": [
       "<matplotlib.image.AxesImage at 0x7f2afa930bd0>"
      ]
     },
     "execution_count": 42,
     "metadata": {},
     "output_type": "execute_result"
    },
    {
     "data": {
      "image/png": "[encoded data removed]",
      "text/plain": [
       "<Figure size 432x288 with 1 Axes>"
      ]
     },
     "metadata": {
      "needs_background": "light"
     },
     "output_type": "display_data"
    }
   ],
   "source": [
    "plt.imshow(shapes[7217])"
   ]
  },
  {
   "cell_type": "code",
   "execution_count": 41,
   "metadata": {},
   "outputs": [
    {
     "data": {
      "text/plain": [
       "<matplotlib.image.AxesImage at 0x7f2afadba690>"
      ]
     },
     "execution_count": 41,
     "metadata": {},
     "output_type": "execute_result"
    },
    {
     "data": {
      "image/png": "[encoded data removed]",
      "text/plain": [
       "<Figure size 432x288 with 1 Axes>"
      ]
     },
     "metadata": {
      "needs_background": "light"
     },
     "output_type": "display_data"
    }
   ],
   "source": [
    "plt.imshow(shapes[6239])"
   ]
  },
  {
   "cell_type": "code",
   "execution_count": null,
   "metadata": {},
   "outputs": [],
   "source": []
  }
 ],
 "metadata": {
  "kernelspec": {
   "display_name": "Python 2",
   "language": "python",
   "name": "python2"
  },
  "language_info": {
   "codemirror_mode": {
    "name": "ipython",
    "version": 2
   },
   "file_extension": ".py",
   "mimetype": "text/x-python",
   "name": "python",
   "nbconvert_exporter": "python",
   "pygments_lexer": "ipython2",
   "version": "2.7.15"
  }
 },
 "nbformat": 4,
 "nbformat_minor": 2
}
